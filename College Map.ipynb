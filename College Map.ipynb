{
 "cells": [
  {
   "cell_type": "code",
   "execution_count": 10,
   "metadata": {},
   "outputs": [
    {
     "name": "stdout",
     "output_type": "stream",
     "text": [
      "Requirement already up-to-date: google-api-python-client in /anaconda3/lib/python3.7/site-packages (1.7.8)\n",
      "Requirement already up-to-date: google-auth-httplib2 in /anaconda3/lib/python3.7/site-packages (0.0.3)\n",
      "Requirement already up-to-date: google-auth-oauthlib in /anaconda3/lib/python3.7/site-packages (0.3.0)\n",
      "Requirement already satisfied, skipping upgrade: httplib2<1dev,>=0.9.2 in /anaconda3/lib/python3.7/site-packages (from google-api-python-client) (0.12.1)\n",
      "Requirement already satisfied, skipping upgrade: uritemplate<4dev,>=3.0.0 in /anaconda3/lib/python3.7/site-packages (from google-api-python-client) (3.0.0)\n",
      "Requirement already satisfied, skipping upgrade: six<2dev,>=1.6.1 in /anaconda3/lib/python3.7/site-packages (from google-api-python-client) (1.12.0)\n",
      "Requirement already satisfied, skipping upgrade: google-auth>=1.4.1 in /anaconda3/lib/python3.7/site-packages (from google-api-python-client) (1.6.3)\n",
      "Requirement already satisfied, skipping upgrade: requests-oauthlib>=0.7.0 in /anaconda3/lib/python3.7/site-packages (from google-auth-oauthlib) (1.2.0)\n",
      "Requirement already satisfied, skipping upgrade: pyasn1-modules>=0.2.1 in /anaconda3/lib/python3.7/site-packages (from google-auth>=1.4.1->google-api-python-client) (0.2.4)\n",
      "Requirement already satisfied, skipping upgrade: cachetools>=2.0.0 in /anaconda3/lib/python3.7/site-packages (from google-auth>=1.4.1->google-api-python-client) (3.1.0)\n",
      "Requirement already satisfied, skipping upgrade: rsa>=3.1.4 in /anaconda3/lib/python3.7/site-packages (from google-auth>=1.4.1->google-api-python-client) (4.0)\n",
      "Requirement already satisfied, skipping upgrade: requests>=2.0.0 in /anaconda3/lib/python3.7/site-packages (from requests-oauthlib>=0.7.0->google-auth-oauthlib) (2.21.0)\n",
      "Requirement already satisfied, skipping upgrade: oauthlib>=3.0.0 in /anaconda3/lib/python3.7/site-packages (from requests-oauthlib>=0.7.0->google-auth-oauthlib) (3.0.1)\n",
      "Requirement already satisfied, skipping upgrade: pyasn1<0.5.0,>=0.4.1 in /anaconda3/lib/python3.7/site-packages (from pyasn1-modules>=0.2.1->google-auth>=1.4.1->google-api-python-client) (0.4.5)\n",
      "Requirement already satisfied, skipping upgrade: chardet<3.1.0,>=3.0.2 in /anaconda3/lib/python3.7/site-packages (from requests>=2.0.0->requests-oauthlib>=0.7.0->google-auth-oauthlib) (3.0.4)\n",
      "Requirement already satisfied, skipping upgrade: idna<2.9,>=2.5 in /anaconda3/lib/python3.7/site-packages (from requests>=2.0.0->requests-oauthlib>=0.7.0->google-auth-oauthlib) (2.8)\n",
      "Requirement already satisfied, skipping upgrade: urllib3<1.25,>=1.21.1 in /anaconda3/lib/python3.7/site-packages (from requests>=2.0.0->requests-oauthlib>=0.7.0->google-auth-oauthlib) (1.24.1)\n",
      "Requirement already satisfied, skipping upgrade: certifi>=2017.4.17 in /anaconda3/lib/python3.7/site-packages (from requests>=2.0.0->requests-oauthlib>=0.7.0->google-auth-oauthlib) (2018.11.29)\n"
     ]
    }
   ],
   "source": [
    "from __future__ import print_function\n",
    "\n",
    "!pip install --upgrade google-api-python-client google-auth-httplib2 google-auth-oauthlib\n",
    "import numpy as np\n",
    "import pandas as pd\n",
    "import pickle\n",
    "import os.path\n",
    "from googleapiclient.discovery import build\n",
    "from google_auth_oauthlib.flow import InstalledAppFlow\n",
    "from google.auth.transport.requests import Request"
   ]
  },
  {
   "cell_type": "code",
   "execution_count": 11,
   "metadata": {},
   "outputs": [],
   "source": [
    "from urllib.parse import urlencode\n",
    "from urllib.request import urlretrieve\n",
    "from urllib.request import urlopen\n",
    "from urllib.request import HTTPError\n"
   ]
  },
  {
   "cell_type": "code",
   "execution_count": 12,
   "metadata": {},
   "outputs": [
    {
     "name": "stdout",
     "output_type": "stream",
     "text": [
      "Requirement already satisfied: gmaps in /anaconda3/lib/python3.7/site-packages (0.8.4)\n",
      "Requirement already satisfied: six in /anaconda3/lib/python3.7/site-packages (from gmaps) (1.12.0)\n",
      "Requirement already satisfied: traitlets>=4.3.0 in /anaconda3/lib/python3.7/site-packages (from gmaps) (4.3.2)\n",
      "Requirement already satisfied: geojson>=2.0.0 in /anaconda3/lib/python3.7/site-packages (from gmaps) (2.4.1)\n",
      "Requirement already satisfied: ipython>=5.3.0 in /anaconda3/lib/python3.7/site-packages (from gmaps) (7.2.0)\n",
      "Requirement already satisfied: ipywidgets>=7.0.0 in /anaconda3/lib/python3.7/site-packages (from gmaps) (7.4.2)\n",
      "Requirement already satisfied: decorator in /anaconda3/lib/python3.7/site-packages (from traitlets>=4.3.0->gmaps) (4.3.0)\n",
      "Requirement already satisfied: ipython-genutils in /anaconda3/lib/python3.7/site-packages (from traitlets>=4.3.0->gmaps) (0.2.0)\n",
      "Requirement already satisfied: pickleshare in /anaconda3/lib/python3.7/site-packages (from ipython>=5.3.0->gmaps) (0.7.5)\n",
      "Requirement already satisfied: prompt-toolkit<2.1.0,>=2.0.0 in /anaconda3/lib/python3.7/site-packages (from ipython>=5.3.0->gmaps) (2.0.7)\n",
      "Requirement already satisfied: jedi>=0.10 in /anaconda3/lib/python3.7/site-packages (from ipython>=5.3.0->gmaps) (0.13.2)\n",
      "Requirement already satisfied: backcall in /anaconda3/lib/python3.7/site-packages (from ipython>=5.3.0->gmaps) (0.1.0)\n",
      "Requirement already satisfied: pygments in /anaconda3/lib/python3.7/site-packages (from ipython>=5.3.0->gmaps) (2.3.1)\n",
      "Requirement already satisfied: pexpect; sys_platform != \"win32\" in /anaconda3/lib/python3.7/site-packages (from ipython>=5.3.0->gmaps) (4.6.0)\n",
      "Requirement already satisfied: appnope; sys_platform == \"darwin\" in /anaconda3/lib/python3.7/site-packages (from ipython>=5.3.0->gmaps) (0.1.0)\n",
      "Requirement already satisfied: setuptools>=18.5 in /anaconda3/lib/python3.7/site-packages (from ipython>=5.3.0->gmaps) (40.6.3)\n",
      "Requirement already satisfied: nbformat>=4.2.0 in /anaconda3/lib/python3.7/site-packages (from ipywidgets>=7.0.0->gmaps) (4.4.0)\n",
      "Requirement already satisfied: widgetsnbextension~=3.4.0 in /anaconda3/lib/python3.7/site-packages (from ipywidgets>=7.0.0->gmaps) (3.4.2)\n",
      "Requirement already satisfied: ipykernel>=4.5.1 in /anaconda3/lib/python3.7/site-packages (from ipywidgets>=7.0.0->gmaps) (5.1.0)\n",
      "Requirement already satisfied: wcwidth in /anaconda3/lib/python3.7/site-packages (from prompt-toolkit<2.1.0,>=2.0.0->ipython>=5.3.0->gmaps) (0.1.7)\n",
      "Requirement already satisfied: parso>=0.3.0 in /anaconda3/lib/python3.7/site-packages (from jedi>=0.10->ipython>=5.3.0->gmaps) (0.3.1)\n",
      "Requirement already satisfied: ptyprocess>=0.5 in /anaconda3/lib/python3.7/site-packages (from pexpect; sys_platform != \"win32\"->ipython>=5.3.0->gmaps) (0.6.0)\n",
      "Requirement already satisfied: jupyter-core in /anaconda3/lib/python3.7/site-packages (from nbformat>=4.2.0->ipywidgets>=7.0.0->gmaps) (4.4.0)\n",
      "Requirement already satisfied: jsonschema!=2.5.0,>=2.4 in /anaconda3/lib/python3.7/site-packages (from nbformat>=4.2.0->ipywidgets>=7.0.0->gmaps) (2.6.0)\n",
      "Requirement already satisfied: notebook>=4.4.1 in /anaconda3/lib/python3.7/site-packages (from widgetsnbextension~=3.4.0->ipywidgets>=7.0.0->gmaps) (5.7.4)\n",
      "Requirement already satisfied: tornado>=4.2 in /anaconda3/lib/python3.7/site-packages (from ipykernel>=4.5.1->ipywidgets>=7.0.0->gmaps) (5.1.1)\n",
      "Requirement already satisfied: jupyter-client in /anaconda3/lib/python3.7/site-packages (from ipykernel>=4.5.1->ipywidgets>=7.0.0->gmaps) (5.2.4)\n",
      "Requirement already satisfied: terminado>=0.8.1 in /anaconda3/lib/python3.7/site-packages (from notebook>=4.4.1->widgetsnbextension~=3.4.0->ipywidgets>=7.0.0->gmaps) (0.8.1)\n",
      "Requirement already satisfied: pyzmq>=17 in /anaconda3/lib/python3.7/site-packages (from notebook>=4.4.1->widgetsnbextension~=3.4.0->ipywidgets>=7.0.0->gmaps) (17.1.2)\n",
      "Requirement already satisfied: jinja2 in /anaconda3/lib/python3.7/site-packages (from notebook>=4.4.1->widgetsnbextension~=3.4.0->ipywidgets>=7.0.0->gmaps) (2.10)\n",
      "Requirement already satisfied: Send2Trash in /anaconda3/lib/python3.7/site-packages (from notebook>=4.4.1->widgetsnbextension~=3.4.0->ipywidgets>=7.0.0->gmaps) (1.5.0)\n",
      "Requirement already satisfied: nbconvert in /anaconda3/lib/python3.7/site-packages (from notebook>=4.4.1->widgetsnbextension~=3.4.0->ipywidgets>=7.0.0->gmaps) (5.4.0)\n",
      "Requirement already satisfied: prometheus-client in /anaconda3/lib/python3.7/site-packages (from notebook>=4.4.1->widgetsnbextension~=3.4.0->ipywidgets>=7.0.0->gmaps) (0.5.0)\n",
      "Requirement already satisfied: python-dateutil>=2.1 in /anaconda3/lib/python3.7/site-packages (from jupyter-client->ipykernel>=4.5.1->ipywidgets>=7.0.0->gmaps) (2.7.5)\n",
      "Requirement already satisfied: MarkupSafe>=0.23 in /anaconda3/lib/python3.7/site-packages (from jinja2->notebook>=4.4.1->widgetsnbextension~=3.4.0->ipywidgets>=7.0.0->gmaps) (1.1.0)\n",
      "Requirement already satisfied: mistune>=0.8.1 in /anaconda3/lib/python3.7/site-packages (from nbconvert->notebook>=4.4.1->widgetsnbextension~=3.4.0->ipywidgets>=7.0.0->gmaps) (0.8.4)\n",
      "Requirement already satisfied: entrypoints>=0.2.2 in /anaconda3/lib/python3.7/site-packages (from nbconvert->notebook>=4.4.1->widgetsnbextension~=3.4.0->ipywidgets>=7.0.0->gmaps) (0.2.3)\n",
      "Requirement already satisfied: bleach in /anaconda3/lib/python3.7/site-packages (from nbconvert->notebook>=4.4.1->widgetsnbextension~=3.4.0->ipywidgets>=7.0.0->gmaps) (3.0.2)\n",
      "Requirement already satisfied: pandocfilters>=1.4.1 in /anaconda3/lib/python3.7/site-packages (from nbconvert->notebook>=4.4.1->widgetsnbextension~=3.4.0->ipywidgets>=7.0.0->gmaps) (1.4.2)\n",
      "Requirement already satisfied: testpath in /anaconda3/lib/python3.7/site-packages (from nbconvert->notebook>=4.4.1->widgetsnbextension~=3.4.0->ipywidgets>=7.0.0->gmaps) (0.4.2)\n",
      "Requirement already satisfied: defusedxml in /anaconda3/lib/python3.7/site-packages (from nbconvert->notebook>=4.4.1->widgetsnbextension~=3.4.0->ipywidgets>=7.0.0->gmaps) (0.5.0)\n",
      "Requirement already satisfied: webencodings in /anaconda3/lib/python3.7/site-packages (from bleach->nbconvert->notebook>=4.4.1->widgetsnbextension~=3.4.0->ipywidgets>=7.0.0->gmaps) (0.5.1)\n"
     ]
    }
   ],
   "source": [
    "!pip install gmaps"
   ]
  },
  {
   "cell_type": "code",
   "execution_count": 13,
   "metadata": {},
   "outputs": [],
   "source": [
    "with open('apikey.txt') as f:\n",
    "    api_key = f.readline()\n",
    "    f.close"
   ]
  },
  {
   "cell_type": "code",
   "execution_count": 14,
   "metadata": {},
   "outputs": [],
   "source": [
    "import gmaps\n",
    "gmaps.configure(api_key=api_key)"
   ]
  },
  {
   "cell_type": "code",
   "execution_count": 15,
   "metadata": {},
   "outputs": [],
   "source": [
    "SCOPES = ['https://www.googleapis.com/auth/spreadsheets']\n",
    "\n",
    "# The ID and range of a sample spreadsheet.\n",
    "arj_ID = '18XjdaJE7ZGaRNOHTj5Fw3Z0kMLpvbyfrqEYF2IvB390'\n",
    "\n",
    "arj_name = 'Sheet1!A2:A'\n",
    "\n",
    "riley_ID = '1MZIa4_FEcoXk41eZWmiW8xgrPzimGEYlhhn3iXB9rf4'\n",
    "\n",
    "def sheet_to_list(ID, name):\n",
    "    creds = None\n",
    "    # The file token.pickle stores the user's access and refresh tokens, and is\n",
    "    # created automatically when the authorization flow completes for the first\n",
    "    # time.\n",
    "    if os.path.exists('token.pickle'):\n",
    "        with open('token.pickle', 'rb') as token:\n",
    "            creds = pickle.load(token)\n",
    "    # If there are no (valid) credentials available, let the user log in.\n",
    "    if not creds or not creds.valid:\n",
    "        if creds and creds.expired and creds.refresh_token:\n",
    "            creds.refresh(Request())\n",
    "        else:\n",
    "            flow = InstalledAppFlow.from_client_secrets_file(\n",
    "                'credentials.json', SCOPES)\n",
    "            creds = flow.run_local_server()\n",
    "        # Save the credentials for the next run\n",
    "        with open('token.pickle', 'wb') as token:\n",
    "            pickle.dump(creds, token)\n",
    "\n",
    "    service = build('sheets', 'v4', credentials=creds)\n",
    "\n",
    "    # Call the Sheets API\n",
    "    sheet = service.spreadsheets()\n",
    "    result = sheet.values().get(spreadsheetId=ID,\n",
    "                                range=name).execute()\n",
    "    values = result.get('values', [])\n",
    "\n",
    "    colleges = [loc[0] for loc in values if len(loc) != 0]\n",
    "    return colleges\n",
    "\n",
    "arj_colleges = sheet_to_list(arj_ID, arj_name)\n",
    "arj_ranks = sheet_to_list(arj_ID, 'Sheet1!C2:C')\n",
    "riley_colleges = sheet_to_list(riley_ID, 'Sheet1!A2:A')\n",
    "riley_locs = sheet_to_list(riley_ID, 'Sheet1!B2:B')"
   ]
  },
  {
   "cell_type": "code",
   "execution_count": 16,
   "metadata": {},
   "outputs": [
    {
     "ename": "NameError",
     "evalue": "name 'cities_data' is not defined",
     "output_type": "error",
     "traceback": [
      "\u001b[0;31m---------------------------------------------------------------------------\u001b[0m",
      "\u001b[0;31mNameError\u001b[0m                                 Traceback (most recent call last)",
      "\u001b[0;32m<ipython-input-16-abe5cae71490>\u001b[0m in \u001b[0;36m<module>\u001b[0;34m\u001b[0m\n\u001b[1;32m      7\u001b[0m \u001b[0;32mfor\u001b[0m \u001b[0mi\u001b[0m \u001b[0;32min\u001b[0m \u001b[0mrange\u001b[0m\u001b[0;34m(\u001b[0m\u001b[0mlen\u001b[0m\u001b[0;34m(\u001b[0m\u001b[0mriley_cities\u001b[0m\u001b[0;34m)\u001b[0m\u001b[0;34m)\u001b[0m\u001b[0;34m:\u001b[0m\u001b[0;34m\u001b[0m\u001b[0;34m\u001b[0m\u001b[0m\n\u001b[1;32m      8\u001b[0m     \u001b[0mcity\u001b[0m\u001b[0;34m,\u001b[0m \u001b[0mstate\u001b[0m \u001b[0;34m=\u001b[0m \u001b[0mriley_cities\u001b[0m\u001b[0;34m[\u001b[0m\u001b[0mi\u001b[0m\u001b[0;34m]\u001b[0m\u001b[0;34m,\u001b[0m \u001b[0mriley_states\u001b[0m\u001b[0;34m[\u001b[0m\u001b[0mi\u001b[0m\u001b[0;34m]\u001b[0m\u001b[0;34m\u001b[0m\u001b[0;34m\u001b[0m\u001b[0m\n\u001b[0;32m----> 9\u001b[0;31m     \u001b[0mcorr_city\u001b[0m \u001b[0;34m=\u001b[0m \u001b[0mcities_data\u001b[0m\u001b[0;34m[\u001b[0m\u001b[0;34m'city'\u001b[0m\u001b[0;34m]\u001b[0m\u001b[0;34m==\u001b[0m\u001b[0mcity\u001b[0m\u001b[0;34m\u001b[0m\u001b[0;34m\u001b[0m\u001b[0m\n\u001b[0m\u001b[1;32m     10\u001b[0m     \u001b[0mcorr_state\u001b[0m \u001b[0;34m=\u001b[0m \u001b[0mcities_data\u001b[0m\u001b[0;34m[\u001b[0m\u001b[0;34m'state_id'\u001b[0m\u001b[0;34m]\u001b[0m\u001b[0;34m==\u001b[0m\u001b[0mstate\u001b[0m\u001b[0;34m\u001b[0m\u001b[0;34m\u001b[0m\u001b[0m\n\u001b[1;32m     11\u001b[0m     \u001b[0mcorr_df\u001b[0m \u001b[0;34m=\u001b[0m \u001b[0mcities_data\u001b[0m\u001b[0;34m[\u001b[0m\u001b[0mcorr_city\u001b[0m \u001b[0;34m&\u001b[0m \u001b[0mcorr_state\u001b[0m\u001b[0;34m]\u001b[0m\u001b[0;34m\u001b[0m\u001b[0;34m\u001b[0m\u001b[0m\n",
      "\u001b[0;31mNameError\u001b[0m: name 'cities_data' is not defined"
     ]
    }
   ],
   "source": [
    "riley_cities = [string.split(', ')[0] for string in riley_locs]\n",
    "riley_states = [string.split(', ')[1] for string in riley_locs]\n",
    "\n",
    "cities, states = [], []\n",
    "lat, lng = [], []\n",
    "\n",
    "for i in range(len(riley_cities)):\n",
    "    city, state = riley_cities[i], riley_states[i]\n",
    "    corr_city = cities_data['city']==city\n",
    "    corr_state = cities_data['state_id']==state\n",
    "    corr_df = cities_data[corr_city & corr_state]\n",
    "    try:\n",
    "        lat += [corr_df['lat'].values[0]]\n",
    "        lng += [corr_df['lng'].values[0]]\n",
    "    except IndexError:\n",
    "        print(f'idk where {city} is :(')\n",
    "    cities += [city]\n",
    "    states += [state]\n",
    "\n",
    "riley_cities = pd.DataFrame({'City':cities, 'State':states, 'Latitude':lat, 'Longitude':lng })"
   ]
  },
  {
   "cell_type": "code",
   "execution_count": null,
   "metadata": {},
   "outputs": [],
   "source": [
    "cities_data = pd.read_csv('uscitiesv1.4.csv') #instead of doing this, query google!"
   ]
  },
  {
   "cell_type": "code",
   "execution_count": null,
   "metadata": {},
   "outputs": [],
   "source": [
    "#have to use a package.\n",
    "\n",
    "def query_college(college):\n",
    "    try: \n",
    "        query =f'''https://en.wikipedia.org/wiki/{college}'''\n",
    "        urlpath = urlopen(query)\n",
    "    except HTTPError:\n",
    "        college = college.replace(\" \", \"_\")\n",
    "        query =f'''https://en.wikipedia.org/wiki/{college}'''\n",
    "        urlpath = urlopen(query)\n",
    "    string = urlpath.read().decode('utf-8')\n",
    "    city_index = string.split('>').index('Location</th') + 4\n",
    "    if ', ' not in string.split('>')[city_index]:\n",
    "        city = string.split('>')[city_index][:-3]\n",
    "        state_index = string.split('>').index('Location</th') + 8\n",
    "        state = string.split('>')[state_index][:-3]\n",
    "    else:\n",
    "        both = string.split('>')[city_index].split(', ')\n",
    "        city = both[0]\n",
    "        state = both[1][:-3]\n",
    "    try:\n",
    "        ID = state_to_ID(state)\n",
    "    except ValueError:\n",
    "        try:\n",
    "            state_index = string.split('>').index('Location</th') + 8\n",
    "            state = string.split('>')[state_index][:-3]\n",
    "            ID = state_to_ID(state)\n",
    "        except ValueError:\n",
    "            state_index = string.split('>').index('Location</th') + 7\n",
    "            state = string.split('>')[state_index][:-5]\n",
    "            ID = state_to_ID(state)\n",
    "    return city, ID\n"
   ]
  },
  {
   "cell_type": "code",
   "execution_count": null,
   "metadata": {},
   "outputs": [],
   "source": [
    "#now query wikipedia for the state abbreviations.\n",
    "def state_to_ID(state, verbose=False):\n",
    "    query = 'https://en.wikipedia.org/wiki/List_of_U.S._state_abbreviations'\n",
    "    urlpath = urlopen(query)\n",
    "    string = urlpath.read().decode('utf-8')\n",
    "    ID_index = string.split('>').index(state + '</a') + 12\n",
    "    ID = string.split('>')[ID_index][:-6]\n",
    "    return ID"
   ]
  },
  {
   "cell_type": "code",
   "execution_count": null,
   "metadata": {},
   "outputs": [],
   "source": [
    "lat, lng = [], []\n",
    "cities, states = [], []\n",
    "ranks = []\n",
    "for i in range(len(arj_colleges)):\n",
    "    city, state = query_college(arj_colleges[i])\n",
    "    corr_city = cities_data['city']==city\n",
    "    corr_state = cities_data['state_id']==state\n",
    "    corr_df = cities_data[corr_city & corr_state]\n",
    "    try:\n",
    "        lat += [corr_df['lat'].values[0]]\n",
    "        lng += [corr_df['lng'].values[0]]\n",
    "        cities += [city]\n",
    "        states += [state]\n",
    "        ranks += [arj_ranks[i]]\n",
    "    except IndexError:\n",
    "        print(f'idk where {city} is :(')\n",
    "    \n",
    "\n",
    "arj_cities = pd.DataFrame({'City':cities, 'State':states, 'Latitude':lat, 'Longitude':lng, 'Ranks':ranks })\n",
    "\n",
    "arj1 = arj_cities[arj_cities['Ranks'] == '1']\n",
    "arj2 = arj_cities[arj_cities['Ranks'] == '2']\n",
    "arj3 = arj_cities[arj_cities['Ranks'] == '3']\n",
    "\n",
    "plot_arj_cities1 = arj1[['Latitude', 'Longitude']]\n",
    "plot_arj_cities2 = arj2[['Latitude', 'Longitude']]\n",
    "plot_arj_cities3 = arj3[['Latitude', 'Longitude']]\n",
    "\n",
    "plot_riley_cities = riley_cities[['Latitude', 'Longitude']]\n",
    "\n",
    "arjun1_layer = gmaps.symbol_layer(\n",
    "    plot_arj_cities1, fill_color='green', stroke_color='green', scale=3)\n",
    "arjun2_layer = gmaps.symbol_layer(\n",
    "    plot_arj_cities2, fill_color='yellow', stroke_color='yellow', scale=3)\n",
    "arjun3_layer = gmaps.symbol_layer(\n",
    "    plot_arj_cities3, fill_color='red', stroke_color='red', scale=3)\n",
    "riley_layer = gmaps.symbol_layer(\n",
    "    plot_riley_cities, fill_color='purple', stroke_color='purple', scale=2)\n",
    "fig = gmaps.figure()\n",
    "fig.add_layer(arjun1_layer)\n",
    "fig.add_layer(arjun2_layer)\n",
    "fig.add_layer(arjun3_layer)\n",
    "fig.add_layer(riley_layer)\n",
    "fig"
   ]
  },
  {
   "cell_type": "code",
   "execution_count": null,
   "metadata": {},
   "outputs": [],
   "source": [
    "# weights = earthquake_df['magnitude']\n",
    "# #Set up your map\n",
    "# fig = gmaps.figure()\n",
    "# fig.add_layer(gmaps.heatmap_layer(locations, weights=weights))\n",
    "# fig"
   ]
  },
  {
   "cell_type": "code",
   "execution_count": null,
   "metadata": {
    "scrolled": false
   },
   "outputs": [],
   "source": [
    "arjun1_layer = gmaps.symbol_layer(\n",
    "    plot_arj_cities1, fill_color='green', stroke_color='green', scale=2)\n",
    "arjun2_layer = gmaps.symbol_layer(\n",
    "    plot_arj_cities2, fill_color='yellow', stroke_color='yellow', scale=2)\n",
    "arjun3_layer = gmaps.symbol_layer(\n",
    "    plot_arj_cities3, fill_color='red', stroke_color='red', scale=2)\n",
    "riley_layer = gmaps.symbol_layer(\n",
    "    plot_riley_cities, fill_color='purple', stroke_color='purple', scale=3)\n",
    "fig = gmaps.figure()\n",
    "fig.add_layer(riley_layer)\n",
    "fig.add_layer(arjun3_layer)\n",
    "fig.add_layer(arjun2_layer)\n",
    "fig.add_layer(arjun1_layer)\n",
    "fig"
   ]
  },
  {
   "cell_type": "code",
   "execution_count": null,
   "metadata": {},
   "outputs": [],
   "source": []
  }
 ],
 "metadata": {
  "kernelspec": {
   "display_name": "Python 3",
   "language": "python",
   "name": "python3"
  },
  "language_info": {
   "codemirror_mode": {
    "name": "ipython",
    "version": 3
   },
   "file_extension": ".py",
   "mimetype": "text/x-python",
   "name": "python",
   "nbconvert_exporter": "python",
   "pygments_lexer": "ipython3",
   "version": "3.7.1"
  }
 },
 "nbformat": 4,
 "nbformat_minor": 2
}
